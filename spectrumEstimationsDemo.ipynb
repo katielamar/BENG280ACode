{
 "cells": [
  {
   "cell_type": "markdown",
   "id": "251a480c-9438-4ac0-876b-48584c3afebb",
   "metadata": {},
   "source": [
    "## Packages Overview\n",
    "\n",
    "### spekpy\n",
    "[Overview](https://bitbucket.org/spekpy/spekpy_release/wiki/Home)\n",
    "\n",
    "[Glossary](https://bitbucket.org/spekpy/spekpy_release/wiki/Function%20glossary)\n",
    "\n",
    "### xraydb\n",
    "[Overview](https://xraypy.github.io/XrayDB/)\n"
   ]
  },
  {
   "cell_type": "code",
   "execution_count": null,
   "id": "4ea5401d-86d1-48fa-a8b4-a65c79f90a93",
   "metadata": {},
   "outputs": [],
   "source": [
    "from spectrumEstimations import SpekEstimations\n",
    "\n",
    "import numpy as np\n",
    "import matplotlib.pyplot as plt\n",
    "import spekpy as sp\n",
    "import xraydb\n",
    "import astropy.units as u\n",
    "from astropy.visualization import quantity_support\n",
    "quantity_support()\n",
    "from roentgen.absorption import MassAttenuationCoefficient"
   ]
  },
  {
   "cell_type": "markdown",
   "id": "26e4ab17-89f6-4e37-bdf5-4fae414a5a5a",
   "metadata": {},
   "source": [
    "# User-Defined Parameters"
   ]
  },
  {
   "cell_type": "code",
   "execution_count": null,
   "id": "6f55e98a-5eed-4527-bfce-2c548d28fc6f",
   "metadata": {},
   "outputs": [],
   "source": [
    "## Scanner Parameters\n",
    "kvp = 100. # Tube potential [kV] \n",
    "theta = 10.5 # Anode angle [deg.]\n",
    "dx = 2. # Increment in lateral direction (= 0.5 in book figures) [cm]\n",
    "z = 62.56 # Source-to-dector distance [cm]\n",
    "dk = 0.5  # Width of energy bin [keV] \n",
    "\n",
    "#Crop EnergyBin\n",
    "cropMin = 5\n",
    "## Phantom Parameters\n",
    "materials  = ['Al','Cu']\n",
    "phantomLengths = np.linspace(0.136,2,10,endpoint=True)"
   ]
  },
  {
   "cell_type": "markdown",
   "id": "1e22477b-85d9-41b0-85c7-1886cbad7e5a",
   "metadata": {},
   "source": [
    "# Set Initial Guess"
   ]
  },
  {
   "cell_type": "code",
   "execution_count": null,
   "id": "de5b0202-d1fe-476d-84d9-ecd4680bf86e",
   "metadata": {},
   "outputs": [],
   "source": [
    "## Get initial W guess\n",
    "numPhotons = np.random.poisson(10**6)\n",
    "initialGuessObject = sp.Spek(th=theta,kvp=kvp,physics=\"kqp\",char=False,obli=False)\n",
    "initialGuessObject.multi_filter([('W',0.1)]) ## Tungsten Filter\n",
    "Es, initialGuess = initialGuessObject.get_spectrum(addend=True)\n",
    "Es = Es[cropMin:]\n",
    "initialGuess=initialGuess[cropMin:]\n",
    "initialGuess = initialGuess/np.sum(initialGuess)*numPhotons\n",
    "initialGuess[initialGuess==0] = 1"
   ]
  },
  {
   "cell_type": "markdown",
   "id": "c37e458b-70d8-40dc-bb58-15ce2d6436fd",
   "metadata": {},
   "source": [
    "# Simulate Spectrum (Simulation Mode Only)"
   ]
  },
  {
   "cell_type": "code",
   "execution_count": null,
   "id": "8ef7d11f-55b2-481c-b7fb-cb94943baa4f",
   "metadata": {
    "scrolled": true
   },
   "outputs": [],
   "source": [
    "## Load Spectrum\n",
    "spectrum = sp.Spek(th=theta,kvp=kvp,physics=\"kqp\",char=True,obli=False)\n",
    "#spectrum.filter('Al',3.9)\n",
    "#spectrum.multi_filter([('C',1.94), ('Al',0.19), ('Cu',0.07)])\n",
    "Es,spectra = spectrum.get_spectrum(addend=True)\n",
    "spectra = spectra[cropMin:]\n",
    "Es = Es[cropMin:]\n",
    "groundTruth = spectra/np.sum(spectra)*numPhotons\n",
    "groundTruth[groundTruth==0] = 1\n",
    "\n",
    "groundTruth1 = groundTruth\n",
    "\n",
    "plt.figure()\n",
    "plt.plot(Es, groundTruth, label=\"Ground Truth\")\n",
    "plt.plot(Es,initialGuess,label=\"Initial Guess\",linestyle=\"-\")\n",
    "plt.title(\"Total Num Photons: ~{}\".format(numPhotons))\n",
    "plt.ylabel(\"Num Photons\")\n",
    "plt.xlabel(\"Energy (keV)\")\n",
    "plt.legend()\n",
    "plt.show()"
   ]
  },
  {
   "cell_type": "markdown",
   "id": "1e78b481-8c46-4c4a-b904-4ec1e06b2836",
   "metadata": {},
   "source": [
    "# Estimate Spectrum"
   ]
  },
  {
   "cell_type": "code",
   "execution_count": null,
   "id": "6001eaa4-17b7-469e-84d9-201067fd06da",
   "metadata": {},
   "outputs": [],
   "source": [
    "estimationObj = SpekEstimations(materials,phantomLengths,initialGuess,Es,groundTruth)\n",
    "estimateWs = estimationObj.getSpectrum(plot=True,plotFactor=1)\n",
    "#estimationObj.plotSpectrum()\n"
   ]
  },
  {
   "cell_type": "code",
   "execution_count": null,
   "id": "d1eb33fc-1d8a-4e50-b684-d41a4dddc23e",
   "metadata": {},
   "outputs": [],
   "source": [
    "plt.figure()\n",
    "helper = plt.plot(Es, groundTruth, label=\"GroundTruth\")\n",
    "helper = plt.plot(Es, estimateWs,label=\"Estimate\")\n",
    "\n",
    "plt.legend()\n",
    "plt.show()"
   ]
  },
  {
   "cell_type": "markdown",
   "id": "15506f74-174d-42d4-9edb-e2556f4a0000",
   "metadata": {},
   "source": [
    "# Extra"
   ]
  },
  {
   "cell_type": "code",
   "execution_count": null,
   "id": "f934e5ad-e679-4c03-a78f-16afd50ee2fc",
   "metadata": {},
   "outputs": [],
   "source": [
    "# plot = True\n",
    "# ## Preparing Mu values\n",
    "# materialMus =np.zeros((len(materials), len(Es)))\n",
    "# for i in range(len(materials)):\n",
    "#     mus_0 = np.loadtxt(materials[i][0]+\".txt\")[:,:2]\n",
    "#     mus_0[:,0] = mus_0[:,0]*10**3\n",
    "#     materialMus[i] = np.interp(Es,mus_0[:,0],mus_0[:,1])\n",
    "#     if plot:\n",
    "#         fig = plt.figure()\n",
    "#         plt.subplot(1,3,1)\n",
    "#         plt.plot(mus_0[:,0], mus_0[:,1])\n",
    "#         plt.yscale(\"log\")\n",
    "#         plt.xscale(\"log\")\n",
    "#         plt.xlabel('Energy [keV]')\n",
    "#         plt.ylabel('Mass attenuation Coefficient [cm^2/g]')\n",
    "#         plt.title(materials[i][0])\n",
    "        \n",
    "#         plt.subplot(1,3,2)\n",
    "#         plt.plot(Es, materialMus[i])\n",
    "#         plt.yscale(\"log\")\n",
    "#         plt.xscale(\"log\")\n",
    "#         plt.xlabel('Energy [keV]')\n",
    "#         plt.ylabel('Mass attenuation Coefficient [cm^2/g]')\n",
    "#         plt.title(materials[i][0])\n",
    "\n",
    "#         plt.subplot(1,3,3)\n",
    "#         plt.plot(Es, materialMus[i]*materials[i][1] )\n",
    "#         plt.yscale(\"log\")\n",
    "#         plt.xscale(\"log\")\n",
    "#         plt.xlabel('Energy [keV]')\n",
    "#         plt.ylabel('Mass attenuation Coefficient [1/cm]')\n",
    "#         plt.title(materials[i][0])\n",
    "#         fig.tight_layout()"
   ]
  }
 ],
 "metadata": {
  "kernelspec": {
   "display_name": "Python 3 (ipykernel)",
   "language": "python",
   "name": "python3"
  },
  "language_info": {
   "codemirror_mode": {
    "name": "ipython",
    "version": 3
   },
   "file_extension": ".py",
   "mimetype": "text/x-python",
   "name": "python",
   "nbconvert_exporter": "python",
   "pygments_lexer": "ipython3",
   "version": "3.9.2"
  }
 },
 "nbformat": 4,
 "nbformat_minor": 5
}
